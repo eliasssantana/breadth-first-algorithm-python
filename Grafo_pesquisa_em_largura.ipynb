{
  "nbformat": 4,
  "nbformat_minor": 0,
  "metadata": {
    "colab": {
      "provenance": [],
      "collapsed_sections": [],
      "authorship_tag": "ABX9TyNS+AQyZZWHJ55y+87K29zO",
      "include_colab_link": true
    },
    "kernelspec": {
      "name": "python3",
      "display_name": "Python 3"
    },
    "language_info": {
      "name": "python"
    }
  },
  "cells": [
    {
      "cell_type": "markdown",
      "metadata": {
        "id": "view-in-github",
        "colab_type": "text"
      },
      "source": [
        "<a href=\"https://colab.research.google.com/github/eliasssantana/breadth-first-algorithm-python/blob/main/Grafo_pesquisa_em_largura.ipynb\" target=\"_parent\"><img src=\"https://colab.research.google.com/assets/colab-badge.svg\" alt=\"Open In Colab\"/></a>"
      ]
    },
    {
      "cell_type": "markdown",
      "source": [
        "##Pesquisa em largura"
      ],
      "metadata": {
        "id": "Lm_5kIF6H3Zf"
      }
    },
    {
      "cell_type": "code",
      "execution_count": null,
      "metadata": {
        "id": "cGVeeDFqHybe"
      },
      "outputs": [],
      "source": [
        "grafo = {}\n",
        "grafo[\"voce\"] = [\"alice\", \"bob\", \"claire\"]\n",
        "grafo[\"bob\"] = [\"anuj\", \"peggy\"]\n",
        "grafo[\"alice\"] = [\"peggy\"]\n",
        "grafo[\"claire\"] = [\"thom\", \"jonny\"]\n",
        "grafo[\"anuj\"] = []\n",
        "grafo[\"peggy\"] = []\n",
        "grafo[\"thom\"] = []\n",
        "grafo[\"jonny\"] = []"
      ]
    },
    {
      "cell_type": "code",
      "source": [
        "from collections import deque"
      ],
      "metadata": {
        "id": "9amPnsllKltS"
      },
      "execution_count": null,
      "outputs": []
    },
    {
      "cell_type": "code",
      "source": [
        "fila_de_pesquisa += grafo[\"voce\"]"
      ],
      "metadata": {
        "id": "14QXQxsaKzP4"
      },
      "execution_count": null,
      "outputs": []
    },
    {
      "cell_type": "code",
      "source": [
        "def pesquisa(nome):\n",
        "  fila_de_pesquisa = deque()\n",
        "  fila_de_pesquisa += grafo[nome]\n",
        "  verificadas = []\n",
        "  while fila_de_pesquisa:\n",
        "    pessoa = fila_de_pesquisa.popleft()\n",
        "    if pessoa not in verificadas:\n",
        "      if pessoa_e_vendedora(pessoa):\n",
        "        print(f\"{pessoa} é um vendedor de manga!\")\n",
        "        return True\n",
        "      else:\n",
        "        fila_de_pesquisa += grafo[pessoa]\n",
        "        verificadas.append(pessoa)\n",
        "  return False\n"
      ],
      "metadata": {
        "id": "Ah4iVEU5K-ZK"
      },
      "execution_count": null,
      "outputs": []
    },
    {
      "cell_type": "code",
      "source": [
        "def pessoa_e_vendedora(nome):\n",
        "  return nome[-1] in 'mM'"
      ],
      "metadata": {
        "id": "YxcgSVHlM68m"
      },
      "execution_count": null,
      "outputs": []
    },
    {
      "cell_type": "code",
      "source": [
        "pesquisa(\"voce\")"
      ],
      "metadata": {
        "colab": {
          "base_uri": "https://localhost:8080/"
        },
        "id": "UeOvxsakQrry",
        "outputId": "df5b0699-6220-45d3-8cde-9d3f08d7d3a9"
      },
      "execution_count": null,
      "outputs": [
        {
          "output_type": "stream",
          "name": "stdout",
          "text": [
            "thom é um vendedor de manga!\n"
          ]
        },
        {
          "output_type": "execute_result",
          "data": {
            "text/plain": [
              "True"
            ]
          },
          "metadata": {},
          "execution_count": 37
        }
      ]
    },
    {
      "cell_type": "code",
      "source": [
        "rotina = {}\n",
        "rotina[\"escovar os dentes\"] = \"tomar café da manhã\"\n",
        "rotina[\"acordar\"] = [\"escovar os dentes\", \"tomar banho\"]"
      ],
      "metadata": {
        "id": "_tMuaCk8Rhsn"
      },
      "execution_count": null,
      "outputs": []
    },
    {
      "cell_type": "code",
      "source": [
        "print(rotina)"
      ],
      "metadata": {
        "colab": {
          "base_uri": "https://localhost:8080/"
        },
        "id": "L-T90xWYSVro",
        "outputId": "adc1e315-f291-4f1f-ad8f-c2d1ac20b8c0"
      },
      "execution_count": null,
      "outputs": [
        {
          "output_type": "stream",
          "name": "stdout",
          "text": [
            "{'escovar os dentes': 'tomar café da manhã', 'acordar': ['escovar os dentes', 'tomar banho']}\n"
          ]
        }
      ]
    },
    {
      "cell_type": "code",
      "source": [
        "rotina2 = {}\n",
        "rotina2[\"acordar\"] = [\"praticar exercício\", \"escovar os dentes\", \"embrulhar o lanche\"]\n",
        "rotina2[\"particar exercício\"] = [\"tomar banho\"]\n",
        "rotina2[\"tomar banho\"] = [\"trocar de roupa\"]\n",
        "rotina2[\"escovar os dentes\"] = [\"tomar café da manhã\"]\n",
        "print(rotina2)\n"
      ],
      "metadata": {
        "colab": {
          "base_uri": "https://localhost:8080/"
        },
        "id": "APeI2hRLUFKU",
        "outputId": "b9aa5c27-6abc-4ea9-ee98-a4ffeb686d21"
      },
      "execution_count": null,
      "outputs": [
        {
          "output_type": "stream",
          "name": "stdout",
          "text": [
            "{'acordar': ['praticar exercício', 'escovar os dentes', 'embrulhar o lanche'], 'particar exercício': ['tomar banho'], 'tomar banho': ['trocar de roupa'], 'escovar os dentes': ['tomar café da manhã']}\n"
          ]
        }
      ]
    }
  ]
}